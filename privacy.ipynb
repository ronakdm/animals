{
 "cells": [
  {
   "cell_type": "code",
   "execution_count": 4,
   "id": "raising-disclaimer",
   "metadata": {},
   "outputs": [],
   "source": [
    "import numpy as np\n",
    "from sklearn.linear_model import LogisticRegression\n",
    "from sklearn.preprocessing import StandardScaler\n",
    "from sklearn.metrics import accuracy_score, f1_score\n",
    "from sklearn.neighbors import KNeighborsClassifier\n",
    "import pickle\n",
    "import datetime\n",
    "import time\n",
    "\n",
    "import matplotlib.pyplot as plt"
   ]
  },
  {
   "cell_type": "code",
   "execution_count": 2,
   "id": "afraid-novelty",
   "metadata": {},
   "outputs": [],
   "source": [
    "def format_time(elapsed):\n",
    "    \"\"\"\n",
    "    Takes a time in seconds and returns a string hh:mm:ss\n",
    "    \"\"\"\n",
    "    # Round to the nearest second.\n",
    "    elapsed_rounded = int(round((elapsed)))\n",
    "\n",
    "    # Format as hh:mm:ss\n",
    "    return str(datetime.timedelta(seconds=elapsed_rounded))"
   ]
  },
  {
   "cell_type": "markdown",
   "id": "reflected-bailey",
   "metadata": {},
   "source": [
    "### 1. PCA data"
   ]
  },
  {
   "cell_type": "markdown",
   "id": "patent-ticket",
   "metadata": {},
   "source": [
    "#### Hold-out validation for logisitc regression"
   ]
  },
  {
   "cell_type": "code",
   "execution_count": 3,
   "id": "generous-tomato",
   "metadata": {
    "scrolled": true
   },
   "outputs": [
    {
     "name": "stdout",
     "output_type": "stream",
     "text": [
      "C = 0.10467, Time: 0:01:36\n",
      "Train: 0.9993 || Valid: 0.9265\n",
      "--------------------------------------------------\n",
      "C = 0.06500, Time: 0:01:16\n",
      "Train: 0.9992 || Valid: 0.9267\n",
      "--------------------------------------------------\n",
      "C = 0.04037, Time: 0:00:59\n",
      "Train: 0.9987 || Valid: 0.9267\n",
      "--------------------------------------------------\n",
      "C = 0.02507, Time: 0:01:06\n",
      "Train: 0.9981 || Valid: 0.9268\n",
      "--------------------------------------------------\n",
      "C = 0.01557, Time: 0:00:47\n",
      "Train: 0.9967 || Valid: 0.9270\n",
      "--------------------------------------------------\n",
      "C = 0.00967, Time: 0:00:46\n",
      "Train: 0.9945 || Valid: 0.9277\n",
      "--------------------------------------------------\n",
      "C = 0.00600, Time: 0:00:46\n",
      "Train: 0.9903 || Valid: 0.9285\n",
      "--------------------------------------------------\n",
      "C = 0.00373, Time: 0:00:40\n",
      "Train: 0.9844 || Valid: 0.9292\n",
      "--------------------------------------------------\n",
      "C = 0.00232, Time: 0:00:30\n",
      "Train: 0.9769 || Valid: 0.9295\n",
      "--------------------------------------------------\n",
      "C = 0.00144, Time: 0:00:29\n",
      "Train: 0.9685 || Valid: 0.9288\n",
      "--------------------------------------------------\n",
      "C = 0.00089, Time: 0:00:22\n",
      "Train: 0.9594 || Valid: 0.9293\n",
      "--------------------------------------------------\n",
      "C = 0.00055, Time: 0:00:16\n",
      "Train: 0.9508 || Valid: 0.9277\n",
      "--------------------------------------------------\n",
      "C = 0.00034, Time: 0:00:17\n",
      "Train: 0.9418 || Valid: 0.9250\n",
      "--------------------------------------------------\n",
      "C = 0.00021, Time: 0:00:13\n",
      "Train: 0.9328 || Valid: 0.9181\n",
      "--------------------------------------------------\n",
      "C = 0.00013, Time: 0:00:14\n",
      "Train: 0.9219 || Valid: 0.9106\n",
      "--------------------------------------------------\n",
      "C = 0.00008, Time: 0:00:12\n",
      "Train: 0.9088 || Valid: 0.8992\n",
      "--------------------------------------------------\n",
      "C = 0.00005, Time: 0:00:11\n",
      "Train: 0.8913 || Valid: 0.8818\n",
      "--------------------------------------------------\n",
      "C = 0.00003, Time: 0:00:12\n",
      "Train: 0.8688 || Valid: 0.8607\n",
      "--------------------------------------------------\n",
      "C = 0.00002, Time: 0:00:11\n",
      "Train: 0.8398 || Valid: 0.8356\n",
      "--------------------------------------------------\n",
      "C = 0.00001, Time: 0:00:13\n",
      "Train: 0.7983 || Valid: 0.7969\n",
      "--------------------------------------------------\n",
      "C = 0.00001, Time: 0:00:14\n",
      "Train: 0.7421 || Valid: 0.7428\n",
      "--------------------------------------------------\n",
      "C = 0.00000, Time: 0:00:14\n",
      "Train: 0.6550 || Valid: 0.6562\n",
      "--------------------------------------------------\n",
      "C = 0.00000, Time: 0:00:16\n",
      "Train: 0.5452 || Valid: 0.5405\n",
      "--------------------------------------------------\n",
      "C = 0.00000, Time: 0:00:17\n",
      "Train: 0.4025 || Valid: 0.4042\n",
      "--------------------------------------------------\n",
      "C = 0.00000, Time: 0:00:18\n",
      "Train: 0.2494 || Valid: 0.2441\n",
      "--------------------------------------------------\n",
      "C = 0.00000, Time: 0:00:13\n",
      "Train: 0.1160 || Valid: 0.1169\n",
      "--------------------------------------------------\n",
      "C = 0.00000, Time: 0:00:13\n",
      "Train: 0.0470 || Valid: 0.0489\n",
      "--------------------------------------------------\n",
      "C = 0.00000, Time: 0:00:11\n",
      "Train: 0.0433 || Valid: 0.0449\n",
      "--------------------------------------------------\n",
      "C = 0.00000, Time: 0:00:21\n",
      "Train: 0.0433 || Valid: 0.0449\n",
      "--------------------------------------------------\n",
      "C = 0.00000, Time: 0:00:10\n",
      "Train: 0.0433 || Valid: 0.0449\n",
      "--------------------------------------------------\n"
     ]
    }
   ],
   "source": [
    "X_train, y_train = np.load(\"data/Z_train.npy\"), np.load(\"data/y_train.npy\")\n",
    "X_val, y_val = np.load(\"data/Z_val.npy\"), np.load(\"data/y_val.npy\")\n",
    "\n",
    "lam_range = np.logspace(-4,2, 30)\n",
    "\n",
    "n = X_train.shape[0]\n",
    "C_range = 1/lam_range * (1/(4*n))\n",
    "\n",
    "out = {}\n",
    "for C in C_range:\n",
    "    tic = time.time()\n",
    "    model = LogisticRegression(C=C, max_iter=1500).fit(X_train, y_train)\n",
    "    y_pred_train = model.predict(X_train)\n",
    "    y_pred = model.predict(X_val)\n",
    "    \n",
    "    res = {}\n",
    "    res['model'] = model\n",
    "    res['valid'] = { \"macro_f1\": f1_score(y_val, y_pred, average=\"macro\"),\n",
    "    \"accuracy\": accuracy_score(y_val, y_pred)}\n",
    "    res['train'] = { \"macro_f1\": f1_score(y_train, y_pred_train, average=\"macro\"),\n",
    "    \"accuracy\": accuracy_score(y_train, y_pred_train)}\n",
    "    toc = time.time()\n",
    "    print('C = {:.5f}, Time: {}'.format(C, format_time(toc-tic)))\n",
    "    print('Train: {:.4f} || Valid: {:.4f}'.format(res['train']['accuracy'],\n",
    "                                                 res['valid']['accuracy']))\n",
    "    print('-'*50)\n",
    "    out[C] = res"
   ]
  },
  {
   "cell_type": "code",
   "execution_count": 4,
   "id": "incorporated-batch",
   "metadata": {},
   "outputs": [],
   "source": [
    "# save results\n",
    "logistic_outfile = './out/logistic_valid.pkl'\n",
    "with open(logistic_outfile, 'wb') as f:\n",
    "    pickle.dump(out, f)"
   ]
  },
  {
   "cell_type": "code",
   "execution_count": 5,
   "id": "ready-watch",
   "metadata": {},
   "outputs": [],
   "source": [
    "# plot results\n",
    "val_acc = [out[c]['valid']['accuracy'] for c in C_range]\n",
    "train_acc = [out[c]['train']['accuracy'] for c in C_range]\n",
    "\n",
    "val_f1 = [out[c]['valid']['macro_f1'] for c in C_range]\n",
    "train_f1 = [out[c]['train']['macro_f1'] for c in C_range]"
   ]
  },
  {
   "cell_type": "code",
   "execution_count": 8,
   "id": "powered-spoke",
   "metadata": {},
   "outputs": [
    {
     "data": {
      "image/png": "[encoded data removed]",
      "text/plain": [
       "<Figure size 720x288 with 2 Axes>"
      ]
     },
     "metadata": {
      "needs_background": "light"
     },
     "output_type": "display_data"
    }
   ],
   "source": [
    "plt.subplots(1,2,figsize=(10,4))\n",
    "\n",
    "plt.subplot(1,2,1)\n",
    "plt.plot(np.log(lam_range[:20]), val_acc[:20], label='valid')\n",
    "plt.plot(np.log(lam_range[:20]), train_acc[:20], label='train')\n",
    "plt.xlabel(r'$\\log \\lambda$')\n",
    "plt.ylabel('Accuracy')\n",
    "plt.legend(frameon=False)\n",
    "\n",
    "plt.subplot(1,2,2)\n",
    "plt.plot(np.log(lam_range[:20]), val_f1[:20], label='valid')\n",
    "plt.plot(np.log(lam_range[:20]), train_f1[:20], label='train')\n",
    "plt.xlabel(r'$\\log \\lambda$')\n",
    "plt.ylabel('F1 Score')\n",
    "plt.legend(frameon=False);"
   ]
  },
  {
   "cell_type": "markdown",
   "id": "operating-enterprise",
   "metadata": {},
   "source": [
    "#### Hold-out validation for k-nearest-neighbors"
   ]
  },
  {
   "cell_type": "code",
   "execution_count": 24,
   "id": "natural-start",
   "metadata": {},
   "outputs": [
    {
     "name": "stdout",
     "output_type": "stream",
     "text": [
      "k = 11, Time: 0:10:55\n",
      "Train: 0.9054 || Valid: 0.8883\n",
      "--------------------------------------------------\n",
      "k = 12, Time: 0:11:01\n",
      "Train: 0.9030 || Valid: 0.8883\n",
      "--------------------------------------------------\n",
      "k = 13, Time: 0:10:57\n",
      "Train: 0.9012 || Valid: 0.8881\n",
      "--------------------------------------------------\n",
      "k = 14, Time: 0:10:57\n",
      "Train: 0.8993 || Valid: 0.8861\n",
      "--------------------------------------------------\n",
      "k = 15, Time: 0:10:58\n",
      "Train: 0.8987 || Valid: 0.8843\n",
      "--------------------------------------------------\n"
     ]
    }
   ],
   "source": [
    "X_train, y_train = np.load(\"data/Z_train.npy\"), np.load(\"data/y_train.npy\")\n",
    "X_val, y_val = np.load(\"data/Z_val.npy\"), np.load(\"data/y_val.npy\")\n",
    "\n",
    "k_range = np.arange(15)+1\n",
    "\n",
    "knn_out = {}\n",
    "for k in k_range:\n",
    "    tic = time.time()\n",
    "    model = KNeighborsClassifier(n_neighbors=k).fit(X_train, y_train)\n",
    "    y_pred_train = model.predict(X_train)\n",
    "    y_pred = model.predict(X_val)\n",
    "    \n",
    "    res = {}\n",
    "    res['model'] = model\n",
    "    res['valid'] = { \"macro_f1\": f1_score(y_val, y_pred, average=\"macro\"),\n",
    "    \"accuracy\": accuracy_score(y_val, y_pred)}\n",
    "    res['train'] = { \"macro_f1\": f1_score(y_train, y_pred_train, average=\"macro\"),\n",
    "    \"accuracy\": accuracy_score(y_train, y_pred_train)}\n",
    "    toc = time.time()\n",
    "    print('k = {}, Time: {}'.format(k, format_time(toc-tic)))\n",
    "    print('Train: {:.4f} || Valid: {:.4f}'.format(res['train']['accuracy'],\n",
    "                                                 res['valid']['accuracy']))\n",
    "    print('-'*50)\n",
    "    knn_out[k] = res"
   ]
  },
  {
   "cell_type": "code",
   "execution_count": 26,
   "id": "indian-taiwan",
   "metadata": {},
   "outputs": [],
   "source": [
    "# save results\n",
    "knn_outfile = './out/knn_valid.pkl'\n",
    "with open(knn_outfile, 'wb') as f:\n",
    "    pickle.dump(knn_out, f)"
   ]
  },
  {
   "cell_type": "code",
   "execution_count": null,
   "id": "interested-cotton",
   "metadata": {},
   "outputs": [],
   "source": []
  },
  {
   "cell_type": "markdown",
   "id": "pressed-newsletter",
   "metadata": {},
   "source": [
    "### 2. Random projection data"
   ]
  },
  {
   "cell_type": "code",
   "execution_count": 9,
   "id": "surprising-ecuador",
   "metadata": {},
   "outputs": [],
   "source": [
    "# compute and save random projections\n",
    "X_full = np.load(\"data/X_train.npy\")\n",
    "\n",
    "n = X_full.shape[0]\n",
    "d_max = X_full.shape[1]\n",
    "\n",
    "scaler = StandardScaler().fit(X_full)\n",
    "\n",
    "# Subset\n",
    "np.random.seed(123)\n",
    "idx = np.random.permutation(X_full.shape[0])\n",
    "X = X_full[idx[0:n], :]\n",
    "\n",
    "n_orig = np.load(\"data/X_train.npy\").shape[1]\n",
    "n_proj = np.load(\"data/Z_train.npy\").shape[1]\n",
    "\n",
    "proj_mat = np.random.normal(size=(n_orig, n_proj))\n",
    "\n",
    "Z_train = np.dot(scaler.transform(X_full), proj_mat)\n",
    "Z_val = np.dot(scaler.transform(np.load(\"data/X_val.npy\")), proj_mat)\n",
    "Z_test = np.dot(scaler.transform(np.load(\"data/X_test.npy\")), proj_mat)\n",
    "\n",
    "with open(\"data/Z_train_rand.npy\", \"wb\") as f:\n",
    "    np.save(f, Z_train)\n",
    "with open(\"data/Z_val_rand.npy\", \"wb\") as f:\n",
    "    np.save(f, Z_val)\n",
    "with open(\"data/Z_test_rand.npy\", \"wb\") as f:\n",
    "    np.save(f, Z_test)"
   ]
  },
  {
   "cell_type": "markdown",
   "id": "nominated-duration",
   "metadata": {},
   "source": [
    "#### Logistic regression"
   ]
  },
  {
   "cell_type": "code",
   "execution_count": 12,
   "id": "involved-invention",
   "metadata": {},
   "outputs": [
    {
     "name": "stdout",
     "output_type": "stream",
     "text": [
      "C = 0.10467, Time: 0:02:19\n",
      "Train: 0.9993 || Valid: 0.9064\n",
      "--------------------------------------------------\n",
      "C = 0.06500, Time: 0:01:57\n",
      "Train: 0.9993 || Valid: 0.9069\n",
      "--------------------------------------------------\n",
      "C = 0.04037, Time: 0:02:03\n",
      "Train: 0.9993 || Valid: 0.9074\n",
      "--------------------------------------------------\n"
     ]
    },
    {
     "name": "stderr",
     "output_type": "stream",
     "text": [
      "/home/alec/anaconda3/lib/python3.7/site-packages/sklearn/linear_model/_logistic.py:764: ConvergenceWarning: lbfgs failed to converge (status=1):\n",
      "STOP: TOTAL NO. of ITERATIONS REACHED LIMIT.\n",
      "\n",
      "Increase the number of iterations (max_iter) or scale the data as shown in:\n",
      "    https://scikit-learn.org/stable/modules/preprocessing.html\n",
      "Please also refer to the documentation for alternative solver options:\n",
      "    https://scikit-learn.org/stable/modules/linear_model.html#logistic-regression\n",
      "  extra_warning_msg=_LOGISTIC_SOLVER_CONVERGENCE_MSG)\n"
     ]
    },
    {
     "name": "stdout",
     "output_type": "stream",
     "text": [
      "C = 0.02507, Time: 0:04:00\n",
      "Train: 0.9993 || Valid: 0.9094\n",
      "--------------------------------------------------\n",
      "C = 0.01557, Time: 0:02:54\n",
      "Train: 0.9993 || Valid: 0.9096\n",
      "--------------------------------------------------\n"
     ]
    },
    {
     "name": "stderr",
     "output_type": "stream",
     "text": [
      "/home/alec/anaconda3/lib/python3.7/site-packages/sklearn/linear_model/_logistic.py:764: ConvergenceWarning: lbfgs failed to converge (status=1):\n",
      "STOP: TOTAL NO. of ITERATIONS REACHED LIMIT.\n",
      "\n",
      "Increase the number of iterations (max_iter) or scale the data as shown in:\n",
      "    https://scikit-learn.org/stable/modules/preprocessing.html\n",
      "Please also refer to the documentation for alternative solver options:\n",
      "    https://scikit-learn.org/stable/modules/linear_model.html#logistic-regression\n",
      "  extra_warning_msg=_LOGISTIC_SOLVER_CONVERGENCE_MSG)\n"
     ]
    },
    {
     "name": "stdout",
     "output_type": "stream",
     "text": [
      "C = 0.00967, Time: 0:04:00\n",
      "Train: 0.9993 || Valid: 0.9094\n",
      "--------------------------------------------------\n",
      "C = 0.00600, Time: 0:02:04\n",
      "Train: 0.9993 || Valid: 0.9102\n",
      "--------------------------------------------------\n"
     ]
    },
    {
     "name": "stderr",
     "output_type": "stream",
     "text": [
      "/home/alec/anaconda3/lib/python3.7/site-packages/sklearn/linear_model/_logistic.py:764: ConvergenceWarning: lbfgs failed to converge (status=1):\n",
      "STOP: TOTAL NO. of ITERATIONS REACHED LIMIT.\n",
      "\n",
      "Increase the number of iterations (max_iter) or scale the data as shown in:\n",
      "    https://scikit-learn.org/stable/modules/preprocessing.html\n",
      "Please also refer to the documentation for alternative solver options:\n",
      "    https://scikit-learn.org/stable/modules/linear_model.html#logistic-regression\n",
      "  extra_warning_msg=_LOGISTIC_SOLVER_CONVERGENCE_MSG)\n"
     ]
    },
    {
     "name": "stdout",
     "output_type": "stream",
     "text": [
      "C = 0.00373, Time: 0:03:59\n",
      "Train: 0.9993 || Valid: 0.9096\n",
      "--------------------------------------------------\n",
      "C = 0.00232, Time: 0:02:13\n",
      "Train: 0.9993 || Valid: 0.9108\n",
      "--------------------------------------------------\n"
     ]
    },
    {
     "name": "stderr",
     "output_type": "stream",
     "text": [
      "/home/alec/anaconda3/lib/python3.7/site-packages/sklearn/linear_model/_logistic.py:764: ConvergenceWarning: lbfgs failed to converge (status=1):\n",
      "STOP: TOTAL NO. of ITERATIONS REACHED LIMIT.\n",
      "\n",
      "Increase the number of iterations (max_iter) or scale the data as shown in:\n",
      "    https://scikit-learn.org/stable/modules/preprocessing.html\n",
      "Please also refer to the documentation for alternative solver options:\n",
      "    https://scikit-learn.org/stable/modules/linear_model.html#logistic-regression\n",
      "  extra_warning_msg=_LOGISTIC_SOLVER_CONVERGENCE_MSG)\n"
     ]
    },
    {
     "name": "stdout",
     "output_type": "stream",
     "text": [
      "C = 0.00144, Time: 0:04:03\n",
      "Train: 0.9993 || Valid: 0.9121\n",
      "--------------------------------------------------\n"
     ]
    },
    {
     "name": "stderr",
     "output_type": "stream",
     "text": [
      "/home/alec/anaconda3/lib/python3.7/site-packages/sklearn/linear_model/_logistic.py:764: ConvergenceWarning: lbfgs failed to converge (status=1):\n",
      "STOP: TOTAL NO. of ITERATIONS REACHED LIMIT.\n",
      "\n",
      "Increase the number of iterations (max_iter) or scale the data as shown in:\n",
      "    https://scikit-learn.org/stable/modules/preprocessing.html\n",
      "Please also refer to the documentation for alternative solver options:\n",
      "    https://scikit-learn.org/stable/modules/linear_model.html#logistic-regression\n",
      "  extra_warning_msg=_LOGISTIC_SOLVER_CONVERGENCE_MSG)\n"
     ]
    },
    {
     "name": "stdout",
     "output_type": "stream",
     "text": [
      "C = 0.00089, Time: 0:04:04\n",
      "Train: 0.9993 || Valid: 0.9119\n",
      "--------------------------------------------------\n",
      "C = 0.00055, Time: 0:01:33\n",
      "Train: 0.9993 || Valid: 0.9126\n",
      "--------------------------------------------------\n",
      "C = 0.00034, Time: 0:01:36\n",
      "Train: 0.9993 || Valid: 0.9129\n",
      "--------------------------------------------------\n",
      "C = 0.00021, Time: 0:01:18\n",
      "Train: 0.9993 || Valid: 0.9144\n",
      "--------------------------------------------------\n",
      "C = 0.00013, Time: 0:01:12\n",
      "Train: 0.9993 || Valid: 0.9148\n",
      "--------------------------------------------------\n",
      "C = 0.00008, Time: 0:01:29\n",
      "Train: 0.9993 || Valid: 0.9158\n",
      "--------------------------------------------------\n",
      "C = 0.00005, Time: 0:04:00\n",
      "Train: 0.9989 || Valid: 0.9171\n",
      "--------------------------------------------------\n",
      "C = 0.00003, Time: 0:02:47\n",
      "Train: 0.9982 || Valid: 0.9186\n",
      "--------------------------------------------------\n",
      "C = 0.00002, Time: 0:00:44\n",
      "Train: 0.9967 || Valid: 0.9193\n",
      "--------------------------------------------------\n",
      "C = 0.00001, Time: 0:01:04\n",
      "Train: 0.9941 || Valid: 0.9195\n",
      "--------------------------------------------------\n",
      "C = 0.00001, Time: 0:00:42\n",
      "Train: 0.9899 || Valid: 0.9206\n",
      "--------------------------------------------------\n",
      "C = 0.00000, Time: 0:01:21\n",
      "Train: 0.9835 || Valid: 0.9211\n",
      "--------------------------------------------------\n",
      "C = 0.00000, Time: 0:00:24\n",
      "Train: 0.9755 || Valid: 0.9216\n",
      "--------------------------------------------------\n",
      "C = 0.00000, Time: 0:01:37\n",
      "Train: 0.9664 || Valid: 0.9211\n",
      "--------------------------------------------------\n",
      "C = 0.00000, Time: 0:01:21\n",
      "Train: 0.9574 || Valid: 0.9196\n",
      "--------------------------------------------------\n",
      "C = 0.00000, Time: 0:00:59\n",
      "Train: 0.9471 || Valid: 0.9178\n",
      "--------------------------------------------------\n",
      "C = 0.00000, Time: 0:00:34\n",
      "Train: 0.9371 || Valid: 0.9119\n",
      "--------------------------------------------------\n",
      "C = 0.00000, Time: 0:00:22\n",
      "Train: 0.9275 || Valid: 0.9067\n",
      "--------------------------------------------------\n",
      "C = 0.00000, Time: 0:00:19\n",
      "Train: 0.9159 || Valid: 0.8963\n",
      "--------------------------------------------------\n",
      "C = 0.00000, Time: 0:00:12\n",
      "Train: 0.9009 || Valid: 0.8855\n",
      "--------------------------------------------------\n"
     ]
    }
   ],
   "source": [
    "X_train, y_train = np.load(\"data/Z_train_rand.npy\"), np.load(\"data/y_train.npy\")\n",
    "X_val, y_val = np.load(\"data/Z_val_rand.npy\"), np.load(\"data/y_val.npy\")\n",
    "\n",
    "lam_range = np.logspace(-4,2, 30)\n",
    "\n",
    "n = X_train.shape[0]\n",
    "C_range = 1/lam_range * (1/(4*n))\n",
    "\n",
    "out = {}\n",
    "for C in C_range:\n",
    "    tic = time.time()\n",
    "    model = LogisticRegression(C=C, max_iter=2500).fit(X_train, y_train)\n",
    "    y_pred_train = model.predict(X_train)\n",
    "    y_pred = model.predict(X_val)\n",
    "    \n",
    "    res = {}\n",
    "    res['model'] = model\n",
    "    res['valid'] = { \"macro_f1\": f1_score(y_val, y_pred, average=\"macro\"),\n",
    "    \"accuracy\": accuracy_score(y_val, y_pred)}\n",
    "    res['train'] = { \"macro_f1\": f1_score(y_train, y_pred_train, average=\"macro\"),\n",
    "    \"accuracy\": accuracy_score(y_train, y_pred_train)}\n",
    "    toc = time.time()\n",
    "    print('C = {:.5f}, Time: {}'.format(C, format_time(toc-tic)))\n",
    "    print('Train: {:.4f} || Valid: {:.4f}'.format(res['train']['accuracy'],\n",
    "                                                 res['valid']['accuracy']))\n",
    "    print('-'*50)\n",
    "    out[C] = res"
   ]
  },
  {
   "cell_type": "code",
   "execution_count": 17,
   "id": "serious-information",
   "metadata": {},
   "outputs": [],
   "source": [
    "# save results\n",
    "logistic_outfile = './out/logistic_rand_valid.pkl'\n",
    "with open(logistic_outfile, 'wb') as f:\n",
    "    pickle.dump(out, f)"
   ]
  },
  {
   "cell_type": "code",
   "execution_count": 13,
   "id": "future-mainland",
   "metadata": {},
   "outputs": [],
   "source": [
    "# plot results\n",
    "val_acc = [out[c]['valid']['accuracy'] for c in C_range]\n",
    "train_acc = [out[c]['train']['accuracy'] for c in C_range]\n",
    "\n",
    "val_f1 = [out[c]['valid']['macro_f1'] for c in C_range]\n",
    "train_f1 = [out[c]['train']['macro_f1'] for c in C_range]"
   ]
  },
  {
   "cell_type": "code",
   "execution_count": 16,
   "id": "medium-feeling",
   "metadata": {},
   "outputs": [
    {
     "data": {
      "image/png": "[encoded data removed]",
      "text/plain": [
       "<Figure size 720x288 with 2 Axes>"
      ]
     },
     "metadata": {
      "needs_background": "light"
     },
     "output_type": "display_data"
    }
   ],
   "source": [
    "plt.subplots(1,2,figsize=(10,4))\n",
    "\n",
    "plt.subplot(1,2,1)\n",
    "plt.plot(np.log(lam_range), val_acc, label='valid')\n",
    "plt.plot(np.log(lam_range), train_acc, label='train')\n",
    "plt.xlabel(r'$\\log \\lambda$')\n",
    "plt.ylabel('Accuracy')\n",
    "plt.legend(frameon=False)\n",
    "\n",
    "plt.subplot(1,2,2)\n",
    "plt.plot(np.log(lam_range), val_f1, label='valid')\n",
    "plt.plot(np.log(lam_range), train_f1, label='train')\n",
    "plt.xlabel(r'$\\log \\lambda$')\n",
    "plt.ylabel('F1 Score')\n",
    "plt.legend(frameon=False);"
   ]
  },
  {
   "cell_type": "markdown",
   "id": "failing-baseline",
   "metadata": {},
   "source": [
    "#### KNN"
   ]
  },
  {
   "cell_type": "code",
   "execution_count": 5,
   "id": "impaired-hobby",
   "metadata": {},
   "outputs": [
    {
     "name": "stdout",
     "output_type": "stream",
     "text": [
      "k = 1, Time: 0:02:20\n",
      "Train: 0.9993 || Valid: 0.8603\n",
      "--------------------------------------------------\n",
      "k = 2, Time: 0:11:10\n",
      "Train: 0.9223 || Valid: 0.8465\n",
      "--------------------------------------------------\n",
      "k = 3, Time: 0:11:10\n",
      "Train: 0.9279 || Valid: 0.8675\n",
      "--------------------------------------------------\n",
      "k = 4, Time: 0:11:10\n",
      "Train: 0.9170 || Valid: 0.8686\n",
      "--------------------------------------------------\n",
      "k = 5, Time: 0:11:11\n",
      "Train: 0.9135 || Valid: 0.8751\n",
      "--------------------------------------------------\n",
      "k = 6, Time: 0:11:11\n",
      "Train: 0.9063 || Valid: 0.8747\n",
      "--------------------------------------------------\n",
      "k = 7, Time: 0:11:11\n",
      "Train: 0.9053 || Valid: 0.8763\n",
      "--------------------------------------------------\n",
      "k = 8, Time: 0:11:11\n",
      "Train: 0.9008 || Valid: 0.8754\n",
      "--------------------------------------------------\n",
      "k = 9, Time: 0:11:17\n",
      "Train: 0.8978 || Valid: 0.8779\n",
      "--------------------------------------------------\n",
      "k = 10, Time: 0:11:11\n",
      "Train: 0.8947 || Valid: 0.8737\n",
      "--------------------------------------------------\n",
      "k = 11, Time: 0:11:13\n",
      "Train: 0.8929 || Valid: 0.8749\n",
      "--------------------------------------------------\n",
      "k = 12, Time: 0:11:12\n",
      "Train: 0.8891 || Valid: 0.8746\n",
      "--------------------------------------------------\n",
      "k = 13, Time: 0:11:12\n",
      "Train: 0.8883 || Valid: 0.8731\n",
      "--------------------------------------------------\n",
      "k = 14, Time: 0:11:12\n",
      "Train: 0.8865 || Valid: 0.8687\n",
      "--------------------------------------------------\n",
      "k = 15, Time: 0:11:12\n",
      "Train: 0.8855 || Valid: 0.8689\n",
      "--------------------------------------------------\n"
     ]
    }
   ],
   "source": [
    "X_train, y_train = np.load(\"data/Z_train_rand.npy\"), np.load(\"data/y_train.npy\")\n",
    "X_val, y_val = np.load(\"data/Z_val_rand.npy\"), np.load(\"data/y_val.npy\")\n",
    "\n",
    "k_range = np.arange(15)+1\n",
    "\n",
    "knn_out = {}\n",
    "for k in k_range:\n",
    "    tic = time.time()\n",
    "    model = KNeighborsClassifier(n_neighbors=k).fit(X_train, y_train)\n",
    "    y_pred_train = model.predict(X_train)\n",
    "    y_pred = model.predict(X_val)\n",
    "    \n",
    "    res = {}\n",
    "    res['model'] = model\n",
    "    res['valid'] = { \"macro_f1\": f1_score(y_val, y_pred, average=\"macro\"),\n",
    "    \"accuracy\": accuracy_score(y_val, y_pred)}\n",
    "    res['train'] = { \"macro_f1\": f1_score(y_train, y_pred_train, average=\"macro\"),\n",
    "    \"accuracy\": accuracy_score(y_train, y_pred_train)}\n",
    "    toc = time.time()\n",
    "    print('k = {}, Time: {}'.format(k, format_time(toc-tic)))\n",
    "    print('Train: {:.4f} || Valid: {:.4f}'.format(res['train']['accuracy'],\n",
    "                                                 res['valid']['accuracy']))\n",
    "    print('-'*50)\n",
    "    knn_out[k] = res"
   ]
  },
  {
   "cell_type": "code",
   "execution_count": 6,
   "id": "beneficial-armor",
   "metadata": {},
   "outputs": [],
   "source": [
    "# save results\n",
    "knn_outfile = './out/knn_valid_rand.pkl'\n",
    "with open(knn_outfile, 'wb') as f:\n",
    "    pickle.dump(knn_out, f)"
   ]
  },
  {
   "cell_type": "code",
   "execution_count": null,
   "id": "binding-garage",
   "metadata": {},
   "outputs": [],
   "source": []
  }
 ],
 "metadata": {
  "kernelspec": {
   "display_name": "Python 3",
   "language": "python",
   "name": "python3"
  },
  "language_info": {
   "codemirror_mode": {
    "name": "ipython",
    "version": 3
   },
   "file_extension": ".py",
   "mimetype": "text/x-python",
   "name": "python",
   "nbconvert_exporter": "python",
   "pygments_lexer": "ipython3",
   "version": "3.7.6"
  }
 },
 "nbformat": 4,
 "nbformat_minor": 5
}
